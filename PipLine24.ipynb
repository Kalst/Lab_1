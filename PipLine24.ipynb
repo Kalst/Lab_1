{
  "nbformat": 4,
  "nbformat_minor": 0,
  "metadata": {
    "colab": {
      "provenance": []
    },
    "kernelspec": {
      "name": "python3",
      "display_name": "Python 3"
    },
    "language_info": {
      "name": "python"
    }
  },
  "cells": [
    {
      "cell_type": "code",
      "execution_count": null,
      "metadata": {
        "colab": {
          "base_uri": "https://localhost:8080/"
        },
        "id": "HdEoRfY4NhfM",
        "outputId": "e967f16b-3541-4c72-adb8-3d21f4852088"
      },
      "outputs": [
        {
          "output_type": "stream",
          "name": "stdout",
          "text": [
            "create a PipLine24\n"
          ]
        }
      ],
      "source": [
        "print (\"create a PipLine\")"
      ]
    },
    {
      "cell_type": "code",
      "source": [
        "print (\"Hi\")"
      ],
      "metadata": {
        "colab": {
          "base_uri": "https://localhost:8080/"
        },
        "id": "FO5pT8Csb8vk",
        "outputId": "3ed9bb90-ba95-4c98-a618-a7afbb431e9f"
      },
      "execution_count": null,
      "outputs": [
        {
          "output_type": "stream",
          "name": "stdout",
          "text": [
            "Hi\n"
          ]
        }
      ]
    }
  ]
}